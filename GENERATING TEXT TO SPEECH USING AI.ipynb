{
 "cells": [
  {
   "cell_type": "markdown",
   "id": "dc4f9f40",
   "metadata": {},
   "source": [
    "## 1. Import the gTTS module for text  to speech conversion"
   ]
  },
  {
   "cell_type": "code",
   "execution_count": 1,
   "id": "f40f3c88",
   "metadata": {},
   "outputs": [
    {
     "name": "stdout",
     "output_type": "stream",
     "text": [
      "Requirement already satisfied: gtts in c:\\users\\lenovo\\anaconda3\\lib\\site-packages (2.3.2)\n",
      "Requirement already satisfied: click<8.2,>=7.1 in c:\\users\\lenovo\\anaconda3\\lib\\site-packages (from gtts) (8.0.4)\n",
      "Requirement already satisfied: requests<3,>=2.27 in c:\\users\\lenovo\\anaconda3\\lib\\site-packages (from gtts) (2.28.1)\n",
      "Requirement already satisfied: colorama in c:\\users\\lenovo\\anaconda3\\lib\\site-packages (from click<8.2,>=7.1->gtts) (0.4.5)\n",
      "Requirement already satisfied: certifi>=2017.4.17 in c:\\users\\lenovo\\anaconda3\\lib\\site-packages (from requests<3,>=2.27->gtts) (2022.9.14)\n",
      "Requirement already satisfied: charset-normalizer<3,>=2 in c:\\users\\lenovo\\anaconda3\\lib\\site-packages (from requests<3,>=2.27->gtts) (2.0.4)\n",
      "Requirement already satisfied: urllib3<1.27,>=1.21.1 in c:\\users\\lenovo\\anaconda3\\lib\\site-packages (from requests<3,>=2.27->gtts) (1.26.11)\n",
      "Requirement already satisfied: idna<4,>=2.5 in c:\\users\\lenovo\\anaconda3\\lib\\site-packages (from requests<3,>=2.27->gtts) (3.3)\n"
     ]
    }
   ],
   "source": [
    "!pip install gtts"
   ]
  },
  {
   "cell_type": "code",
   "execution_count": 2,
   "id": "59f337ef",
   "metadata": {},
   "outputs": [],
   "source": [
    "from gtts import gTTS"
   ]
  },
  {
   "cell_type": "markdown",
   "id": "a1b60905",
   "metadata": {},
   "source": [
    "## 2. Import the playsound module to play the converted audio"
   ]
  },
  {
   "cell_type": "code",
   "execution_count": 3,
   "id": "261222df",
   "metadata": {},
   "outputs": [],
   "source": [
    "from IPython.display import Audio, display\n",
    "import os"
   ]
  },
  {
   "cell_type": "markdown",
   "id": "0eae28d5",
   "metadata": {},
   "source": [
    "## 3. Specify the text that has to be converted to speech"
   ]
  },
  {
   "cell_type": "code",
   "execution_count": 4,
   "id": "0e7e1ac3",
   "metadata": {},
   "outputs": [],
   "source": [
    "mytext = 'hello.I am a computer science engineering student,studying IIIrd year  !'\n",
    "language = 'en'"
   ]
  },
  {
   "cell_type": "markdown",
   "id": "25cdd158",
   "metadata": {},
   "source": [
    "## 4. Convert the text to speech"
   ]
  },
  {
   "cell_type": "code",
   "execution_count": 5,
   "id": "2871bf29",
   "metadata": {},
   "outputs": [],
   "source": [
    "myobj = gTTS(text=mytext, lang=language, slow=False)"
   ]
  },
  {
   "cell_type": "markdown",
   "id": "0c349adb",
   "metadata": {},
   "source": [
    "## 5. Save the converted speech as mp3 file"
   ]
  },
  {
   "cell_type": "code",
   "execution_count": 6,
   "id": "e2d05594",
   "metadata": {},
   "outputs": [],
   "source": [
    "myobj.save(\"myaudio.mp3\")"
   ]
  },
  {
   "cell_type": "markdown",
   "id": "87c33960",
   "metadata": {},
   "source": [
    "## 6. Play the converted speech"
   ]
  },
  {
   "cell_type": "code",
   "execution_count": 7,
   "id": "2514bcfc",
   "metadata": {},
   "outputs": [
    {
     "data": {
      "text/html": [
       "\n",
       "                <audio  controls=\"controls\" >\n",
       "                    <source src=\"data:audio/mpeg;base64,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\" type=\"audio/mpeg\" />\n",
       "                    Your browser does not support the audio element.\n",
       "                </audio>\n",
       "              "
      ],
      "text/plain": [
       "<IPython.lib.display.Audio object>"
      ]
     },
     "metadata": {},
     "output_type": "display_data"
    }
   ],
   "source": [
    "display(Audio(\"myaudio.mp3\"))"
   ]
  },
  {
   "cell_type": "markdown",
   "id": "a2faeef3",
   "metadata": {},
   "source": [
    "## 7. Compute the accuracy of conversion"
   ]
  },
  {
   "cell_type": "code",
   "execution_count": 8,
   "id": "63d85f37",
   "metadata": {},
   "outputs": [
    {
     "name": "stdout",
     "output_type": "stream",
     "text": [
      "Original Text: hello.I am a computer science engineering student,studying IIIrd year  !\n",
      "Transcribed Text: hello.I am a computer science engineering student,studying IIIrd year  !\n",
      "Error Percentage: 0.00%\n"
     ]
    }
   ],
   "source": [
    "transcribed_text = myobj.text\n",
    "def calculate_error_percentage(original, transcribed):\n",
    "    original = original.lower()\n",
    "    transcribed = transcribed.lower()\n",
    "    error_count = sum(c1 != c2 for c1, c2 in zip(original, transcribed))\n",
    "    total_chars = len(original)\n",
    "    error_percentage = (error_count / total_chars) * 100\n",
    "    return error_percentage\n",
    "error_percentage = calculate_error_percentage(mytext, transcribed_text)\n",
    "print(f\"Original Text: {mytext}\")\n",
    "print(f\"Transcribed Text: {transcribed_text}\")\n",
    "print(f\"Error Percentage: {error_percentage:.2f}%\")\n",
    "#os.remove(\"temp.mp3\")"
   ]
  },
  {
   "cell_type": "code",
   "execution_count": 9,
   "id": "b765d6c8",
   "metadata": {
    "scrolled": true
   },
   "outputs": [
    {
     "data": {
      "text/html": [
       "<a href='myaudio.mp3' target='_blank'>myaudio.mp3</a><br>"
      ],
      "text/plain": [
       "C:\\Users\\LENOVO\\myaudio.mp3"
      ]
     },
     "execution_count": 9,
     "metadata": {},
     "output_type": "execute_result"
    }
   ],
   "source": [
    "from IPython.display import FileLink\n",
    "file_path = \"myaudio.mp3\"\n",
    "FileLink(file_path)\n"
   ]
  }
 ],
 "metadata": {
  "kernelspec": {
   "display_name": "Python 3 (ipykernel)",
   "language": "python",
   "name": "python3"
  },
  "language_info": {
   "codemirror_mode": {
    "name": "ipython",
    "version": 3
   },
   "file_extension": ".py",
   "mimetype": "text/x-python",
   "name": "python",
   "nbconvert_exporter": "python",
   "pygments_lexer": "ipython3",
   "version": "3.9.13"
  }
 },
 "nbformat": 4,
 "nbformat_minor": 5
}
